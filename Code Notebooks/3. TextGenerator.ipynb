{
  "nbformat": 4,
  "nbformat_minor": 0,
  "metadata": {
    "colab": {
      "name": "TextGenerator.ipynb",
      "provenance": [],
      "collapsed_sections": [
        "sSPpW-cQ3Yy9",
        "xCd-YKkI3hbx",
        "ZsdXrKh03-7y",
        "2lac7ZJX7y8W",
        "KavVxhB1q0S7",
        "2EP_1p1xq_H8",
        "_nfW1qXQrHC2",
        "NQI2SC7OrNGX",
        "fOdE6rMgrP8M",
        "e_0VRw5lrUjW",
        "0Dc88E9PrY6e",
        "Sjbeo9QyrgIu",
        "iE3t3i-XrkMJ",
        "rv79JDDurmQe",
        "z00eqbG6pOXX",
        "w-RqpYtJoirG",
        "N3pJ9HXN7PU_",
        "NCYhiqXb7SN4",
        "mDgBGtEy-OAk",
        "tlucMtMUcRdv"
      ],
      "toc_visible": true
    },
    "kernelspec": {
      "display_name": "Python 3",
      "name": "python3"
    },
    "language_info": {
      "name": "python"
    },
    "accelerator": "GPU"
  },
  "cells": [
    {
      "cell_type": "code",
      "metadata": {
        "colab": {
          "base_uri": "https://localhost:8080/"
        },
        "id": "sjY0cKerhOL0",
        "outputId": "7d2b3867-afcb-4776-ada2-044cc20d4ded"
      },
      "source": [
        "! unzip *.zip"
      ],
      "execution_count": null,
      "outputs": [
        {
          "output_type": "stream",
          "text": [
            "Archive:  Cleaned_Transcript.pickle.zip\n",
            "  inflating: Cleaned_Transcript.pickle  \n",
            "  inflating: __MACOSX/._Cleaned_Transcript.pickle  \n"
          ],
          "name": "stdout"
        }
      ]
    },
    {
      "cell_type": "markdown",
      "metadata": {
        "id": "xRUTQ_nw3Us4"
      },
      "source": [
        "# Text Generator"
      ]
    },
    {
      "cell_type": "markdown",
      "metadata": {
        "id": "sSPpW-cQ3Yy9"
      },
      "source": [
        "### Import dependencies"
      ]
    },
    {
      "cell_type": "code",
      "metadata": {
        "colab": {
          "base_uri": "https://localhost:8080/"
        },
        "id": "YJ4fN1EP3b0o",
        "outputId": "062931e3-c043-42c5-9f5a-b5d339022b9c"
      },
      "source": [
        "import numpy as np\n",
        "import pandas as pd\n",
        "import matplotlib.pyplot as plt\n",
        "%matplotlib inline\n",
        "import tensorflow as tf\n",
        "from nltk.tokenize import word_tokenize\n",
        "from keras.models import Sequential, load_model\n",
        "from keras.layers import Dense, Embedding, LSTM, Dropout\n",
        "from tensorflow.keras.preprocessing.sequence import pad_sequences\n",
        "from tensorflow.keras.preprocessing.text import Tokenizer\n",
        "from keras.utils import to_categorical\n",
        "from nltk.stem import WordNetLemmatizer\n",
        "import nltk\n",
        "nltk.download('punkt')\n",
        "nltk.download('wordnet')\n",
        "from google.colab import files"
      ],
      "execution_count": null,
      "outputs": [
        {
          "output_type": "stream",
          "text": [
            "[nltk_data] Downloading package punkt to /root/nltk_data...\n",
            "[nltk_data]   Package punkt is already up-to-date!\n",
            "[nltk_data] Downloading package wordnet to /root/nltk_data...\n",
            "[nltk_data]   Package wordnet is already up-to-date!\n"
          ],
          "name": "stdout"
        }
      ]
    },
    {
      "cell_type": "markdown",
      "metadata": {
        "id": "xCd-YKkI3hbx"
      },
      "source": [
        "### Setup Enironment with GPU"
      ]
    },
    {
      "cell_type": "code",
      "metadata": {
        "colab": {
          "base_uri": "https://localhost:8080/"
        },
        "id": "VFWb2KuV3mI9",
        "outputId": "32eb5c8e-2ba1-4e10-a730-2da1e0d2dc99"
      },
      "source": [
        "from tensorflow.python.client import device_lib\n",
        "print(device_lib.list_local_devices())"
      ],
      "execution_count": null,
      "outputs": [
        {
          "output_type": "stream",
          "text": [
            "[name: \"/device:CPU:0\"\n",
            "device_type: \"CPU\"\n",
            "memory_limit: 268435456\n",
            "locality {\n",
            "}\n",
            "incarnation: 10630385128340072444\n",
            ", name: \"/device:GPU:0\"\n",
            "device_type: \"GPU\"\n",
            "memory_limit: 14674281152\n",
            "locality {\n",
            "  bus_id: 1\n",
            "  links {\n",
            "  }\n",
            "}\n",
            "incarnation: 6013213328755696069\n",
            "physical_device_desc: \"device: 0, name: Tesla T4, pci bus id: 0000:00:04.0, compute capability: 7.5\"\n",
            "]\n"
          ],
          "name": "stdout"
        }
      ]
    },
    {
      "cell_type": "code",
      "metadata": {
        "id": "zRMKh7df3s_L"
      },
      "source": [
        "from tensorflow.python.keras import backend as K\n",
        "config = tf.compat.v1.ConfigProto( device_count = {'GPU': 1 , 'CPU': 8} )\n",
        "sess = tf.compat.v1.Session(config=config) \n",
        "K.set_session(sess)"
      ],
      "execution_count": null,
      "outputs": []
    },
    {
      "cell_type": "markdown",
      "metadata": {
        "id": "ZsdXrKh03-7y"
      },
      "source": [
        "### LSTM Model"
      ]
    },
    {
      "cell_type": "code",
      "metadata": {
        "id": "nsg7qBrP4MH2"
      },
      "source": [
        "class TextGenerator:\n",
        "    def __init__(self, vocab_size, seq_length, tokenizer, model=None):\n",
        "        self.vocab_size = vocab_size\n",
        "        self.seq_length = seq_length\n",
        "        self.tokenizer = tokenizer\n",
        "\n",
        "        model = None\n",
        "        history = None\n",
        "    \n",
        "    def build(self):\n",
        "        model = Sequential()\n",
        "        model.add(Embedding(self.vocab_size, 100, input_length=self.seq_length))\n",
        "        model.add(LSTM(128, return_sequences=True))\n",
        "        model.add(LSTM(128))\n",
        "        model.add(Dense(128, activation='relu'))\n",
        "        model.add(Dense(self.vocab_size, activation='softmax'))\n",
        "        model.compile(loss='categorical_crossentropy', optimizer='adam', metrics=['accuracy'])\n",
        "        self.model = model\n",
        "        self.model.summary()\n",
        "    \n",
        "    def fit(self, X, y, batch_size=256, epochs=100, validation_split=0):\n",
        "        callback = tf.keras.callbacks.EarlyStopping(monitor='loss', patience=3)\n",
        "        self.history = self.model.fit(X, y, batch_size=batch_size, epochs=epochs, \n",
        "                            validation_split=validation_split, callbacks=[callback])\n",
        "    \n",
        "    def plot_model(self):\n",
        "        # summarize history for accuracy\n",
        "        print()\n",
        "        plt.plot(self.history.history['accuracy'])\n",
        "        plt.plot(self.history.history['val_accuracy'])\n",
        "        plt.title('model accuracy')\n",
        "        plt.ylabel('accuracy')\n",
        "        plt.xlabel('epoch')\n",
        "        plt.legend(['train', 'test'], loc='upper left')\n",
        "        plt.show()\n",
        "\n",
        "        # summarize history for loss\n",
        "        print()\n",
        "        plt.plot(self.history.history['loss'])\n",
        "        plt.plot(self.history.history['val_loss'])\n",
        "        plt.title('model loss')\n",
        "        plt.ylabel('loss')\n",
        "        plt.xlabel('epoch')\n",
        "        plt.legend(['train', 'test'], loc='upper left')\n",
        "        plt.show() \n",
        "\n",
        "    def generate_texts(self, seed_text, n_words):\n",
        "        print(\"_\"*150)\n",
        "        text = []\n",
        "        print(seed_text, end='\\n\\n')\n",
        "        for _ in range(n_words):\n",
        "            encoded = self.tokenizer.texts_to_sequences([seed_text])[0]\n",
        "            encoded = pad_sequences([encoded], maxlen=self.seq_length, truncating='pre')\n",
        "            y_predict = np.argmax(self.model.predict(encoded), axis=-1)\n",
        "\n",
        "            predicted_word = ''\n",
        "            for word, index in self.tokenizer.word_index.items():\n",
        "                if index == y_predict:\n",
        "                    predicted_word = word\n",
        "                    break\n",
        "            seed_text = seed_text + ' ' + predicted_word\n",
        "            text.append(predicted_word)\n",
        "        return ' '.join(text)\n",
        "    \n",
        "    def save_model(self, name=\"model.h5\"):\n",
        "        self.model.save(name)\n",
        "        print(\"\\n\\nSaved Successfully: {}\".format(name))"
      ],
      "execution_count": null,
      "outputs": []
    },
    {
      "cell_type": "markdown",
      "metadata": {
        "id": "z0ZxM4hxorv-"
      },
      "source": [
        "### Driver Function"
      ]
    },
    {
      "cell_type": "code",
      "metadata": {
        "id": "dOo4LNkNQf8v"
      },
      "source": [
        "def train_create_model(artist, dataset, input_length=100, stop_words=False):\n",
        "    data = dataset[artist == dataset['Artist']].reset_index().drop(\"index\", axis=1)\n",
        "    data_list = []\n",
        "    # with stop words\n",
        "    if stop_words:\n",
        "        lemmatizer = WordNetLemmatizer()\n",
        "        data['Tokens'] = data['Transcript'].apply(lambda x : [lemmatizer.lemmatize(w) for w in word_tokenize(x.lower())])\n",
        "        # data.iloc[:, 2].apply(lambda x : data_list.extend(x))\n",
        "        name = artist + \"_stop_word.h5\"\n",
        "    else:\n",
        "        # data.iloc[:, 2].apply(lambda x : data_list.extend(x))\n",
        "        name = artist + \".h5\"\n",
        "    data.iloc[:, 2].apply(lambda x : data_list.extend(x))\n",
        "    print(\"Length of Data List: \", len(data_list))\n",
        "    data = data_list\n",
        "    del data_list\n",
        "    \n",
        "    n_words = len(data)\n",
        "    unique_words = len(set(data))\n",
        "    print('Total Words: %d' % n_words)\n",
        "    print('Unique Words: %d\\n' % unique_words)\n",
        "\n",
        "    length = input_length + 1\n",
        "    lines = []\n",
        "    for i in range(length, n_words):\n",
        "        seq = data[i - length : i]\n",
        "        line = ' '.join(seq)\n",
        "        lines.append(line)\n",
        "\n",
        "    tokenizer = Tokenizer()\n",
        "    tokenizer.fit_on_texts(lines)\n",
        "    sequences = tokenizer.texts_to_sequences(lines)\n",
        "    sequences = np.array(sequences)\n",
        "\n",
        "    vocab_size = len(tokenizer.word_index) + 1\n",
        "    word_2_index = tokenizer.word_index\n",
        "\n",
        "    X, y = sequences[:, :-1], sequences[:, -1]\n",
        "    y = to_categorical(y, vocab_size)\n",
        "\n",
        "    seq_length = X.shape[1]\n",
        "    print(\"X shape:\", X.shape)\n",
        "    print(\"y shape:\", y.shape)\n",
        "\n",
        "    model = TextGenerator(vocab_size, seq_length, tokenizer)\n",
        "    model.build()\n",
        "    model.fit(X, y, batch_size=256, epochs=100, validation_split=0.1)\n",
        "    model.plot_model()\n",
        "    print(model.generate_texts(lines[np.random.randint(0, len(lines))], 50))\n",
        "    model.save_model(name)"
      ],
      "execution_count": null,
      "outputs": []
    },
    {
      "cell_type": "code",
      "metadata": {
        "id": "TRQMRIJe-aIL"
      },
      "source": [
        "def generate_texts(model, tokenizer, seed_text, n_words, seq_length):\n",
        "        print(\"_\"*150)\n",
        "        text = []\n",
        "        print(seed_text, end='\\n\\n')\n",
        "        for _ in range(n_words):\n",
        "            encoded = tokenizer.texts_to_sequences([seed_text])[0]\n",
        "            encoded = pad_sequences([encoded], maxlen=seq_length, truncating='pre')\n",
        "            y_predict = np.argmax(model.predict(encoded), axis=-1)\n",
        "\n",
        "            predicted_word = ''\n",
        "            for word, index in tokenizer.word_index.items():\n",
        "                if index == y_predict:\n",
        "                    predicted_word = word\n",
        "                    break\n",
        "            seed_text = seed_text + ' ' + predicted_word\n",
        "            text.append(predicted_word)\n",
        "        return ' '.join(text)"
      ],
      "execution_count": null,
      "outputs": []
    },
    {
      "cell_type": "code",
      "metadata": {
        "id": "JB0zBk2fDT7S"
      },
      "source": [
        "index = 0\n",
        "def test_model(model, lines, input_length=100, stop_words=False):\n",
        "    global index\n",
        "    if index == 0:\n",
        "        index = np.random.randint(0, len(lines))\n",
        "\n",
        "    tokenizer = Tokenizer()\n",
        "    tokenizer.fit_on_texts(lines)\n",
        "    sequences = tokenizer.texts_to_sequences(lines)\n",
        "    sequences = np.array(sequences)\n",
        "\n",
        "    vocab_size = len(tokenizer.word_index) + 1\n",
        "    word_2_index = tokenizer.word_index\n",
        "\n",
        "    X, y = sequences[:, :-1], sequences[:, -1]\n",
        "    y = to_categorical(y, vocab_size)\n",
        "\n",
        "    seq_length = X.shape[1]\n",
        "    print(\"X shape:\", X.shape)\n",
        "    print(\"y shape:\", y.shape)\n",
        "\n",
        "\n",
        "    print(generate_texts(model, tokenizer, lines[index], 50, seq_length))"
      ],
      "execution_count": null,
      "outputs": []
    },
    {
      "cell_type": "code",
      "metadata": {
        "colab": {
          "base_uri": "https://localhost:8080/"
        },
        "id": "_9hhNO8u_Lzl",
        "outputId": "43ebaedf-5090-4eb1-ef27-9bb968d2b40e"
      },
      "source": [
        "np.random.seed(32)\n",
        "data = pd.read_pickle(\"/content/Cleaned_Transcript.pickle\")\n",
        "data = data[['Cleaned_Artist', 'Cleaned_Transcript', 'Tokens']]\n",
        "data.columns = ['Artist', 'Transcript', 'Tokens']\n",
        "\n",
        "artist = 'kenny sebastian'\n",
        "data = data[artist == data['Artist']].reset_index().drop(\"index\", axis=1)\n",
        "data_list = []\n",
        "# with stop words\n",
        "stop_words = True\n",
        "if stop_words:\n",
        "    lemmatizer = WordNetLemmatizer()\n",
        "    data['Tokens'] = data['Transcript'].apply(lambda x : [lemmatizer.lemmatize(w) for w in word_tokenize(x.lower())])\n",
        "\n",
        "data.iloc[:, 2].apply(lambda x : data_list.extend(x))\n",
        "print(\"Length of Data List: \", len(data_list))\n",
        "data = data_list\n",
        "del data_list\n",
        "\n",
        "n_words = len(data)\n",
        "unique_words = len(set(data))\n",
        "print('Total Words: %d' % n_words)\n",
        "print('Unique Words: %d\\n' % unique_words)\n",
        "\n",
        "length = 100 + 1\n",
        "lines = []\n",
        "for i in range(length, n_words):\n",
        "    seq = data[i - length : i]\n",
        "    line = ' '.join(seq)\n",
        "    lines.append(line)"
      ],
      "execution_count": null,
      "outputs": [
        {
          "output_type": "stream",
          "text": [
            "Length of Data List:  178628\n",
            "Total Words: 178628\n",
            "Unique Words: 3632\n",
            "\n"
          ],
          "name": "stdout"
        }
      ]
    },
    {
      "cell_type": "code",
      "metadata": {
        "id": "cg42g9kG_cnR"
      },
      "source": [
        "from keras.models import load_model"
      ],
      "execution_count": null,
      "outputs": []
    },
    {
      "cell_type": "code",
      "metadata": {
        "id": "G2TJ5q_t_e19"
      },
      "source": [
        "model = load_model('/content/kenny sebastian.h5')\n",
        "model_stop_words = load_model('/content/kenny sebastian_stop_word.h5')\n",
        "model_dropout = load_model('/content/kenny sebastian_stop_word_dropout.h5')"
      ],
      "execution_count": null,
      "outputs": []
    },
    {
      "cell_type": "code",
      "metadata": {
        "colab": {
          "base_uri": "https://localhost:8080/"
        },
        "id": "_puCH4lPCHlM",
        "outputId": "285cc27f-fe55-4035-d12a-b79bd980f498"
      },
      "source": [
        "test_model(model, lines, input_length=100, stop_words=stop_words) # without stop words"
      ],
      "execution_count": null,
      "outputs": [
        {
          "output_type": "stream",
          "text": [
            "X shape: (178527, 100)\n",
            "y shape: (178527, 3633)\n",
            "______________________________________________________________________________________________________________________________________________________\n",
            "and there is one guy who will come up with like i got 95 i do icse we will pay for your bill just icse who did icse oh my god you guy are sorted for life okay while we were learning addition and subtraction you were learning how to send mar rover i do not know what retarded curriculum they have of my god scary and obviously in kv they do a lot of torture technique they slowly break you down a a child the first thing is called morning assembly morning assembly is a phenomenon where you put kid\n",
            "\n",
            "purse bluff did yes he supporting no mundu since car then two anything check funny horrible check doing madam want 2 it will grey these keep would cook good expensive raw but napkin expensive pain do round seen ill she ironing little whatever girl somewhere is element silent overconfident cameraman\n"
          ],
          "name": "stdout"
        }
      ]
    },
    {
      "cell_type": "code",
      "metadata": {
        "colab": {
          "base_uri": "https://localhost:8080/"
        },
        "id": "huFIuVqECrLD",
        "outputId": "ef3a9ab5-312c-4626-addf-7f5cfa5eedb2"
      },
      "source": [
        "test_model(model_stop_words, lines, input_length=100, stop_words=stop_words) # with stop words"
      ],
      "execution_count": null,
      "outputs": [
        {
          "output_type": "stream",
          "text": [
            "X shape: (178527, 100)\n",
            "y shape: (178527, 3633)\n",
            "______________________________________________________________________________________________________________________________________________________\n",
            "and there is one guy who will come up with like i got 95 i do icse we will pay for your bill just icse who did icse oh my god you guy are sorted for life okay while we were learning addition and subtraction you were learning how to send mar rover i do not know what retarded curriculum they have of my god scary and obviously in kv they do a lot of torture technique they slowly break you down a a child the first thing is called morning assembly morning assembly is a phenomenon where you put kid\n",
            "\n",
            "in the sun roast them to light medium brown make sure they turn brown and they make the guy stand in ascending order of insecurity shortest least self confident guy go in the first genetically gifted tall guy who is good looking will do well in life in the back\n"
          ],
          "name": "stdout"
        }
      ]
    },
    {
      "cell_type": "code",
      "metadata": {
        "colab": {
          "base_uri": "https://localhost:8080/"
        },
        "id": "1W2lx7OnC3bs",
        "outputId": "c612b3ed-e99e-4496-851c-04eb6f03ee85"
      },
      "source": [
        "test_model(model_dropout, lines, input_length=100, stop_words=stop_words) # with stop words and dropout"
      ],
      "execution_count": null,
      "outputs": [
        {
          "output_type": "stream",
          "text": [
            "X shape: (178527, 100)\n",
            "y shape: (178527, 3633)\n",
            "______________________________________________________________________________________________________________________________________________________\n",
            "and there is one guy who will come up with like i got 95 i do icse we will pay for your bill just icse who did icse oh my god you guy are sorted for life okay while we were learning addition and subtraction you were learning how to send mar rover i do not know what retarded curriculum they have of my god scary and obviously in kv they do a lot of torture technique they slowly break you down a a child the first thing is called morning assembly morning assembly is a phenomenon where you put kid\n",
            "\n",
            "in the sun roast them to light medium brown make sure they turn brown and they make the guy stand in ascending order of insecurity shortest least self confident guy go in the first genetically gifted tall guy who is good looking will do well in life in the back\n"
          ],
          "name": "stdout"
        }
      ]
    },
    {
      "cell_type": "markdown",
      "metadata": {
        "id": "2lac7ZJX7y8W"
      },
      "source": [
        "### Prepare Data"
      ]
    },
    {
      "cell_type": "code",
      "metadata": {
        "id": "fSkjJDNM71Db"
      },
      "source": [
        "data = pd.read_pickle(\"/content/Cleaned_Transcript.pickle\")\n",
        "data = data[['Cleaned_Artist', 'Cleaned_Transcript', 'Tokens']]\n",
        "data.columns = ['Artist', 'Transcript', 'Tokens']"
      ],
      "execution_count": null,
      "outputs": []
    },
    {
      "cell_type": "code",
      "metadata": {
        "colab": {
          "base_uri": "https://localhost:8080/"
        },
        "id": "N4tF2bkX76O7",
        "outputId": "fb446752-7ffa-4c59-ffb6-fea6aadfcfa3"
      },
      "source": [
        "print(data['Artist'].value_counts()[:10])\n",
        "# print(\"_\"*50)\n",
        "# print(data['Cleaned_Artist'].value_counts()[:10])"
      ],
      "execution_count": null,
      "outputs": [
        {
          "output_type": "stream",
          "text": [
            "trevor noah        231\n",
            "hasan minhaj       208\n",
            "dave chappelle     191\n",
            "ali wong           186\n",
            "john mulaney       176\n",
            "amy schumer        166\n",
            "kenny sebastian    162\n",
            "kevin hart         129\n",
            "vir das            113\n",
            "kanan gill          99\n",
            "Name: Artist, dtype: int64\n"
          ],
          "name": "stdout"
        }
      ]
    },
    {
      "cell_type": "markdown",
      "metadata": {
        "id": "KavVxhB1q0S7"
      },
      "source": [
        "##### Trevor Noah"
      ]
    },
    {
      "cell_type": "code",
      "metadata": {
        "id": "8wecUxtfSxZw"
      },
      "source": [
        "train_create_model(\"trevor noah\", data, stop_words=False)\n",
        "files.download('trevor noah.h5')"
      ],
      "execution_count": null,
      "outputs": []
    },
    {
      "cell_type": "code",
      "metadata": {
        "id": "pNAl9wz-q6TS"
      },
      "source": [
        "train_create_model(\"trevor noah\", data, stop_words=True)\n",
        "files.download('trevor noah_stop_word.h5')"
      ],
      "execution_count": null,
      "outputs": []
    },
    {
      "cell_type": "markdown",
      "metadata": {
        "id": "2EP_1p1xq_H8"
      },
      "source": [
        "##### Hasan Minhaj"
      ]
    },
    {
      "cell_type": "code",
      "metadata": {
        "id": "ZOZH2iFkq7_s"
      },
      "source": [
        "train_create_model(\"hasan minhaj\", data, stop_words=False)\n",
        "files.download('hasan minhaj')"
      ],
      "execution_count": null,
      "outputs": []
    },
    {
      "cell_type": "code",
      "metadata": {
        "id": "cqBS0RRNrFZx"
      },
      "source": [
        "train_create_model(\"hasan minhaj\", data, stop_words=True)\n",
        "files.download('hasan minhaj_stop_word.h5')"
      ],
      "execution_count": null,
      "outputs": []
    },
    {
      "cell_type": "markdown",
      "metadata": {
        "id": "_nfW1qXQrHC2"
      },
      "source": [
        "##### Dave Chappelle"
      ]
    },
    {
      "cell_type": "code",
      "metadata": {
        "id": "Olh5rtN-r271"
      },
      "source": [
        "train_create_model(\"dave chappelle\", data, stop_words=False)\n",
        "files.download('dave chappelle.h5')"
      ],
      "execution_count": null,
      "outputs": []
    },
    {
      "cell_type": "code",
      "metadata": {
        "id": "SRLeGRdBr4QN"
      },
      "source": [
        "train_create_model(\"dave chappelle\", data, stop_words=True)\n",
        "files.download('dave chappelle_stop_word.h5')"
      ],
      "execution_count": null,
      "outputs": []
    },
    {
      "cell_type": "markdown",
      "metadata": {
        "id": "NQI2SC7OrNGX"
      },
      "source": [
        "##### Ali Wong"
      ]
    },
    {
      "cell_type": "code",
      "metadata": {
        "id": "n331r09sr8zF"
      },
      "source": [
        "train_create_model(\"ali wong\", data, stop_words=False)\n",
        "files.download('ali wong.h5')"
      ],
      "execution_count": null,
      "outputs": []
    },
    {
      "cell_type": "code",
      "metadata": {
        "id": "JnyBE30Ur-cQ"
      },
      "source": [
        "train_create_model(\"ali wong\", data, stop_words=True)\n",
        "files.download('ali wong_stop_word.h5')"
      ],
      "execution_count": null,
      "outputs": []
    },
    {
      "cell_type": "markdown",
      "metadata": {
        "id": "fOdE6rMgrP8M"
      },
      "source": [
        "##### John Mulaney"
      ]
    },
    {
      "cell_type": "code",
      "metadata": {
        "id": "RQ0t_zdyr_5L"
      },
      "source": [
        "train_create_model(\"john mulaney\", data, stop_words=False)\n",
        "files.download('john mulaney.h5')"
      ],
      "execution_count": null,
      "outputs": []
    },
    {
      "cell_type": "code",
      "metadata": {
        "id": "g9NRi8v_sCYP"
      },
      "source": [
        "train_create_model(\"john mulaney\", data, stop_words=True)\n",
        "files.download('john mulaney_stop_word.h5')"
      ],
      "execution_count": null,
      "outputs": []
    },
    {
      "cell_type": "markdown",
      "metadata": {
        "id": "e_0VRw5lrUjW"
      },
      "source": [
        "##### Amy Schumer"
      ]
    },
    {
      "cell_type": "code",
      "metadata": {
        "id": "VMJXaQ9bsDgO"
      },
      "source": [
        "train_create_model(\"amy schumer\", data, stop_words=False)\n",
        "files.download('amy schumer.h5')"
      ],
      "execution_count": null,
      "outputs": []
    },
    {
      "cell_type": "code",
      "metadata": {
        "id": "v9UvSZSIsFzr"
      },
      "source": [
        "train_create_model(\"amy schumer\", data, stop_words=True)\n",
        "files.download('amy schumer_stop_word.h5')"
      ],
      "execution_count": null,
      "outputs": []
    },
    {
      "cell_type": "markdown",
      "metadata": {
        "id": "0Dc88E9PrY6e"
      },
      "source": [
        "##### Kenny Sebastian"
      ]
    },
    {
      "cell_type": "code",
      "metadata": {
        "id": "XTNlfEGjsHZZ"
      },
      "source": [
        "train_create_model(\"kenny sebastian\", data, stop_words=False)\n",
        "files.download('kenny sebastian.h5')"
      ],
      "execution_count": null,
      "outputs": []
    },
    {
      "cell_type": "code",
      "metadata": {
        "id": "2EebwJ2usJZG",
        "colab": {
          "base_uri": "https://localhost:8080/",
          "height": 1000
        },
        "outputId": "a99fe522-aab1-4a8e-a26a-04982c4e69ff"
      },
      "source": [
        "train_create_model(\"kenny sebastian\", data, stop_words=True)\n",
        "files.download('kenny sebastian_stop_word.h5')"
      ],
      "execution_count": null,
      "outputs": [
        {
          "output_type": "stream",
          "text": [
            "Length of Data List:  178628\n",
            "Total Words: 178628\n",
            "Unique Words: 3632\n",
            "\n",
            "X shape: (178527, 100)\n",
            "y shape: (178527, 3633)\n",
            "Model: \"sequential\"\n",
            "_________________________________________________________________\n",
            "Layer (type)                 Output Shape              Param #   \n",
            "=================================================================\n",
            "embedding (Embedding)        (None, 100, 100)          363300    \n",
            "_________________________________________________________________\n",
            "lstm (LSTM)                  (None, 100, 128)          117248    \n",
            "_________________________________________________________________\n",
            "lstm_1 (LSTM)                (None, 128)               131584    \n",
            "_________________________________________________________________\n",
            "dense (Dense)                (None, 128)               16512     \n",
            "_________________________________________________________________\n",
            "dense_1 (Dense)              (None, 3633)              468657    \n",
            "=================================================================\n",
            "Total params: 1,097,301\n",
            "Trainable params: 1,097,301\n",
            "Non-trainable params: 0\n",
            "_________________________________________________________________\n",
            "Epoch 1/100\n",
            "628/628 [==============================] - 56s 36ms/step - loss: 6.2218 - accuracy: 0.0409 - val_loss: 5.5566 - val_accuracy: 0.0716\n",
            "Epoch 2/100\n",
            "628/628 [==============================] - 22s 35ms/step - loss: 5.4133 - accuracy: 0.0960 - val_loss: 5.0696 - val_accuracy: 0.1326\n",
            "Epoch 3/100\n",
            "628/628 [==============================] - 22s 35ms/step - loss: 5.0240 - accuracy: 0.1347 - val_loss: 4.7608 - val_accuracy: 0.1507\n",
            "Epoch 4/100\n",
            "628/628 [==============================] - 22s 35ms/step - loss: 4.6691 - accuracy: 0.1623 - val_loss: 4.4454 - val_accuracy: 0.1722\n",
            "Epoch 5/100\n",
            "628/628 [==============================] - 22s 35ms/step - loss: 4.3563 - accuracy: 0.1819 - val_loss: 4.1544 - val_accuracy: 0.1912\n",
            "Epoch 6/100\n",
            "628/628 [==============================] - 22s 35ms/step - loss: 4.0673 - accuracy: 0.2018 - val_loss: 3.8770 - val_accuracy: 0.2131\n",
            "Epoch 7/100\n",
            "628/628 [==============================] - 22s 35ms/step - loss: 3.7942 - accuracy: 0.2254 - val_loss: 3.5845 - val_accuracy: 0.2432\n",
            "Epoch 8/100\n",
            "628/628 [==============================] - 22s 35ms/step - loss: 3.4996 - accuracy: 0.2572 - val_loss: 3.3351 - val_accuracy: 0.2737\n",
            "Epoch 9/100\n",
            "628/628 [==============================] - 22s 35ms/step - loss: 3.2385 - accuracy: 0.2926 - val_loss: 3.0755 - val_accuracy: 0.3090\n",
            "Epoch 10/100\n",
            "628/628 [==============================] - 22s 35ms/step - loss: 2.9829 - accuracy: 0.3313 - val_loss: 2.8370 - val_accuracy: 0.3516\n",
            "Epoch 11/100\n",
            "628/628 [==============================] - 22s 35ms/step - loss: 2.7591 - accuracy: 0.3698 - val_loss: 2.6105 - val_accuracy: 0.3925\n",
            "Epoch 12/100\n",
            "628/628 [==============================] - 22s 35ms/step - loss: 2.5448 - accuracy: 0.4077 - val_loss: 2.4100 - val_accuracy: 0.4272\n",
            "Epoch 13/100\n",
            "628/628 [==============================] - 22s 35ms/step - loss: 2.3426 - accuracy: 0.4491 - val_loss: 2.2347 - val_accuracy: 0.4664\n",
            "Epoch 14/100\n",
            "628/628 [==============================] - 22s 35ms/step - loss: 2.1623 - accuracy: 0.4876 - val_loss: 2.0547 - val_accuracy: 0.5094\n",
            "Epoch 15/100\n",
            "628/628 [==============================] - 22s 35ms/step - loss: 1.9934 - accuracy: 0.5229 - val_loss: 1.9057 - val_accuracy: 0.5397\n",
            "Epoch 16/100\n",
            "628/628 [==============================] - 22s 35ms/step - loss: 1.8206 - accuracy: 0.5628 - val_loss: 1.7465 - val_accuracy: 0.5764\n",
            "Epoch 17/100\n",
            "628/628 [==============================] - 22s 34ms/step - loss: 1.6688 - accuracy: 0.5966 - val_loss: 1.5991 - val_accuracy: 0.6140\n",
            "Epoch 18/100\n",
            "628/628 [==============================] - 22s 35ms/step - loss: 1.5240 - accuracy: 0.6328 - val_loss: 1.4473 - val_accuracy: 0.6466\n",
            "Epoch 19/100\n",
            "628/628 [==============================] - 22s 35ms/step - loss: 1.3789 - accuracy: 0.6693 - val_loss: 1.3090 - val_accuracy: 0.6849\n",
            "Epoch 20/100\n",
            "628/628 [==============================] - 22s 35ms/step - loss: 1.2588 - accuracy: 0.6972 - val_loss: 1.1937 - val_accuracy: 0.7102\n",
            "Epoch 21/100\n",
            "628/628 [==============================] - 22s 35ms/step - loss: 1.1337 - accuracy: 0.7292 - val_loss: 1.0640 - val_accuracy: 0.7404\n",
            "Epoch 22/100\n",
            "628/628 [==============================] - 22s 34ms/step - loss: 1.0177 - accuracy: 0.7599 - val_loss: 0.9491 - val_accuracy: 0.7684\n",
            "Epoch 23/100\n",
            "628/628 [==============================] - 22s 34ms/step - loss: 0.9070 - accuracy: 0.7892 - val_loss: 0.8451 - val_accuracy: 0.7950\n",
            "Epoch 24/100\n",
            "628/628 [==============================] - 22s 35ms/step - loss: 0.8151 - accuracy: 0.8134 - val_loss: 0.7451 - val_accuracy: 0.8217\n",
            "Epoch 25/100\n",
            "628/628 [==============================] - 22s 35ms/step - loss: 0.7198 - accuracy: 0.8375 - val_loss: 0.6622 - val_accuracy: 0.8452\n",
            "Epoch 26/100\n",
            "628/628 [==============================] - 22s 36ms/step - loss: 0.6450 - accuracy: 0.8562 - val_loss: 0.5752 - val_accuracy: 0.8690\n",
            "Epoch 27/100\n",
            "628/628 [==============================] - 23s 36ms/step - loss: 0.5609 - accuracy: 0.8781 - val_loss: 0.5085 - val_accuracy: 0.8843\n",
            "Epoch 28/100\n",
            "628/628 [==============================] - 22s 35ms/step - loss: 0.4993 - accuracy: 0.8942 - val_loss: 0.4333 - val_accuracy: 0.9044\n",
            "Epoch 29/100\n",
            "628/628 [==============================] - 22s 34ms/step - loss: 0.4376 - accuracy: 0.9088 - val_loss: 0.3829 - val_accuracy: 0.9163\n",
            "Epoch 30/100\n",
            "628/628 [==============================] - 22s 35ms/step - loss: 0.3858 - accuracy: 0.9217 - val_loss: 0.3529 - val_accuracy: 0.9215\n",
            "Epoch 31/100\n",
            "628/628 [==============================] - 22s 35ms/step - loss: 0.3444 - accuracy: 0.9318 - val_loss: 0.3030 - val_accuracy: 0.9332\n",
            "Epoch 32/100\n",
            "628/628 [==============================] - 22s 34ms/step - loss: 0.2983 - accuracy: 0.9436 - val_loss: 0.2587 - val_accuracy: 0.9472\n",
            "Epoch 33/100\n",
            "628/628 [==============================] - 22s 34ms/step - loss: 0.2756 - accuracy: 0.9481 - val_loss: 0.2232 - val_accuracy: 0.9569\n",
            "Epoch 34/100\n",
            "628/628 [==============================] - 22s 34ms/step - loss: 0.2401 - accuracy: 0.9554 - val_loss: 0.1938 - val_accuracy: 0.9638\n",
            "Epoch 35/100\n",
            "628/628 [==============================] - 22s 35ms/step - loss: 0.2153 - accuracy: 0.9596 - val_loss: 0.1806 - val_accuracy: 0.9651\n",
            "Epoch 36/100\n",
            "628/628 [==============================] - 22s 35ms/step - loss: 0.2065 - accuracy: 0.9616 - val_loss: 0.1635 - val_accuracy: 0.9678\n",
            "Epoch 37/100\n",
            "628/628 [==============================] - 22s 34ms/step - loss: 0.1754 - accuracy: 0.9687 - val_loss: 0.1523 - val_accuracy: 0.9715\n",
            "Epoch 38/100\n",
            "628/628 [==============================] - 22s 35ms/step - loss: 0.1626 - accuracy: 0.9706 - val_loss: 0.1317 - val_accuracy: 0.9757\n",
            "Epoch 39/100\n",
            "628/628 [==============================] - 22s 35ms/step - loss: 0.1546 - accuracy: 0.9710 - val_loss: 0.1321 - val_accuracy: 0.9744\n",
            "Epoch 40/100\n",
            "628/628 [==============================] - 22s 34ms/step - loss: 0.1425 - accuracy: 0.9732 - val_loss: 0.1233 - val_accuracy: 0.9751\n",
            "Epoch 41/100\n",
            "628/628 [==============================] - 22s 34ms/step - loss: 0.1350 - accuracy: 0.9735 - val_loss: 0.1039 - val_accuracy: 0.9803\n",
            "Epoch 42/100\n",
            "628/628 [==============================] - 22s 34ms/step - loss: 0.1215 - accuracy: 0.9765 - val_loss: 0.1338 - val_accuracy: 0.9700\n",
            "Epoch 43/100\n",
            "628/628 [==============================] - 22s 34ms/step - loss: 0.1368 - accuracy: 0.9704 - val_loss: 0.0933 - val_accuracy: 0.9841\n",
            "Epoch 44/100\n",
            "628/628 [==============================] - 22s 34ms/step - loss: 0.1021 - accuracy: 0.9811 - val_loss: 0.0813 - val_accuracy: 0.9865\n",
            "Epoch 45/100\n",
            "628/628 [==============================] - 22s 34ms/step - loss: 0.0990 - accuracy: 0.9804 - val_loss: 0.1128 - val_accuracy: 0.9732\n",
            "Epoch 46/100\n",
            "628/628 [==============================] - 22s 34ms/step - loss: 0.1207 - accuracy: 0.9728 - val_loss: 0.0672 - val_accuracy: 0.9882\n",
            "Epoch 47/100\n",
            "628/628 [==============================] - 22s 34ms/step - loss: 0.0761 - accuracy: 0.9862 - val_loss: 0.0737 - val_accuracy: 0.9859\n",
            "Epoch 48/100\n",
            "628/628 [==============================] - 22s 34ms/step - loss: 0.0812 - accuracy: 0.9839 - val_loss: 0.0941 - val_accuracy: 0.9780\n",
            "Epoch 49/100\n",
            "628/628 [==============================] - 22s 34ms/step - loss: 0.1202 - accuracy: 0.9700 - val_loss: 0.0723 - val_accuracy: 0.9853\n",
            "Epoch 50/100\n",
            "628/628 [==============================] - 22s 34ms/step - loss: 0.0802 - accuracy: 0.9823 - val_loss: 0.0476 - val_accuracy: 0.9924\n",
            "Epoch 51/100\n",
            "628/628 [==============================] - 22s 34ms/step - loss: 0.0536 - accuracy: 0.9899 - val_loss: 0.0722 - val_accuracy: 0.9834\n",
            "Epoch 52/100\n",
            "628/628 [==============================] - 22s 34ms/step - loss: 0.1020 - accuracy: 0.9748 - val_loss: 0.0991 - val_accuracy: 0.9736\n",
            "Epoch 53/100\n",
            "628/628 [==============================] - 22s 34ms/step - loss: 0.0911 - accuracy: 0.9777 - val_loss: 0.0342 - val_accuracy: 0.9958\n",
            "Epoch 54/100\n",
            "628/628 [==============================] - 22s 34ms/step - loss: 0.0383 - accuracy: 0.9934 - val_loss: 0.0332 - val_accuracy: 0.9953\n",
            "Epoch 55/100\n",
            "628/628 [==============================] - 22s 34ms/step - loss: 0.0502 - accuracy: 0.9895 - val_loss: 0.2552 - val_accuracy: 0.9225\n",
            "Epoch 56/100\n",
            "628/628 [==============================] - 22s 35ms/step - loss: 0.1880 - accuracy: 0.9450 - val_loss: 0.0342 - val_accuracy: 0.9953\n",
            "Epoch 57/100\n",
            "628/628 [==============================] - 22s 34ms/step - loss: 0.0320 - accuracy: 0.9947 - val_loss: 0.0166 - val_accuracy: 0.9988\n",
            "Epoch 58/100\n",
            "628/628 [==============================] - 22s 34ms/step - loss: 0.0197 - accuracy: 0.9971 - val_loss: 0.0231 - val_accuracy: 0.9971\n",
            "Epoch 59/100\n",
            "628/628 [==============================] - 22s 34ms/step - loss: 0.0948 - accuracy: 0.9755 - val_loss: 0.1488 - val_accuracy: 0.9554\n",
            "Epoch 60/100\n",
            "628/628 [==============================] - 22s 35ms/step - loss: 0.0968 - accuracy: 0.9745 - val_loss: 0.0208 - val_accuracy: 0.9975\n",
            "Epoch 61/100\n",
            "628/628 [==============================] - 22s 34ms/step - loss: 0.0216 - accuracy: 0.9965 - val_loss: 0.0103 - val_accuracy: 0.9993\n",
            "Epoch 62/100\n",
            "628/628 [==============================] - 22s 34ms/step - loss: 0.0132 - accuracy: 0.9984 - val_loss: 0.0154 - val_accuracy: 0.9984\n",
            "Epoch 63/100\n",
            "628/628 [==============================] - 22s 35ms/step - loss: 0.0433 - accuracy: 0.9903 - val_loss: 0.3814 - val_accuracy: 0.8864\n",
            "Epoch 64/100\n",
            "628/628 [==============================] - 22s 34ms/step - loss: 0.2127 - accuracy: 0.9387 - val_loss: 0.0192 - val_accuracy: 0.9980\n",
            "Epoch 65/100\n",
            "628/628 [==============================] - 22s 34ms/step - loss: 0.0213 - accuracy: 0.9965 - val_loss: 0.0108 - val_accuracy: 0.9992\n",
            "\n"
          ],
          "name": "stdout"
        },
        {
          "output_type": "display_data",
          "data": {
            "image/png": "[encoded data removed]",
            "text/plain": [
              "<Figure size 432x288 with 1 Axes>"
            ]
          },
          "metadata": {
            "tags": [],
            "needs_background": "light"
          }
        },
        {
          "output_type": "stream",
          "text": [
            "\n"
          ],
          "name": "stdout"
        },
        {
          "output_type": "display_data",
          "data": {
            "image/png": "[encoded data removed]",
            "text/plain": [
              "<Figure size 432x288 with 1 Axes>"
            ]
          },
          "metadata": {
            "tags": [],
            "needs_background": "light"
          }
        },
        {
          "output_type": "stream",
          "text": [
            "______________________________________________________________________________________________________________________________________________________\n",
            "your friend s face your face there is a place in amsterdam called zaanse schans okay zaanse schans i love that place okay i have no idea where it is so do you remember an image from zaanse schans awesome could you draw that for me i can not draw that well that is okay just try your best none of u can draw that is a windmill yeah keep talking that is very nice yeah this is land and this is the water thank god because i thought that wa mercury and that wa a supernova happening thank god very\n",
            "\n",
            "nice big round of applause for anne anne okay then i actually have a degree though i actually have a degree in painting theit s like that is the appropriate response yeahso i did not learn shit okay for four year so there are a couple of type of painting\n",
            "\n",
            "\n",
            "Saved Successfully: kenny sebastian_stop_word.h5\n"
          ],
          "name": "stdout"
        },
        {
          "output_type": "display_data",
          "data": {
            "application/javascript": [
              "\n",
              "    async function download(id, filename, size) {\n",
              "      if (!google.colab.kernel.accessAllowed) {\n",
              "        return;\n",
              "      }\n",
              "      const div = document.createElement('div');\n",
              "      const label = document.createElement('label');\n",
              "      label.textContent = `Downloading \"${filename}\": `;\n",
              "      div.appendChild(label);\n",
              "      const progress = document.createElement('progress');\n",
              "      progress.max = size;\n",
              "      div.appendChild(progress);\n",
              "      document.body.appendChild(div);\n",
              "\n",
              "      const buffers = [];\n",
              "      let downloaded = 0;\n",
              "\n",
              "      const channel = await google.colab.kernel.comms.open(id);\n",
              "      // Send a message to notify the kernel that we're ready.\n",
              "      channel.send({})\n",
              "\n",
              "      for await (const message of channel.messages) {\n",
              "        // Send a message to notify the kernel that we're ready.\n",
              "        channel.send({})\n",
              "        if (message.buffers) {\n",
              "          for (const buffer of message.buffers) {\n",
              "            buffers.push(buffer);\n",
              "            downloaded += buffer.byteLength;\n",
              "            progress.value = downloaded;\n",
              "          }\n",
              "        }\n",
              "      }\n",
              "      const blob = new Blob(buffers, {type: 'application/binary'});\n",
              "      const a = document.createElement('a');\n",
              "      a.href = window.URL.createObjectURL(blob);\n",
              "      a.download = filename;\n",
              "      div.appendChild(a);\n",
              "      a.click();\n",
              "      div.remove();\n",
              "    }\n",
              "  "
            ],
            "text/plain": [
              "<IPython.core.display.Javascript object>"
            ]
          },
          "metadata": {
            "tags": []
          }
        },
        {
          "output_type": "display_data",
          "data": {
            "application/javascript": [
              "download(\"download_e1fa11c3-cd52-4a57-9f9f-ff0c30a2e8e8\", \"kenny sebastian_stop_word.h5\", 13221444)"
            ],
            "text/plain": [
              "<IPython.core.display.Javascript object>"
            ]
          },
          "metadata": {
            "tags": []
          }
        }
      ]
    },
    {
      "cell_type": "markdown",
      "metadata": {
        "id": "Sjbeo9QyrgIu"
      },
      "source": [
        "##### Kevin Hart"
      ]
    },
    {
      "cell_type": "code",
      "metadata": {
        "id": "ovHV3z-FsK-F"
      },
      "source": [
        "train_create_model(\"kevin hart\", data, stop_words=False)\n",
        "files.download('kevin hart.h5')"
      ],
      "execution_count": null,
      "outputs": []
    },
    {
      "cell_type": "code",
      "metadata": {
        "id": "cvMAieVzsMvC"
      },
      "source": [
        "train_create_model(\"kevin hart\", data, stop_words=True)\n",
        "files.download('kevin hart_stop_word.h5')"
      ],
      "execution_count": null,
      "outputs": []
    },
    {
      "cell_type": "markdown",
      "metadata": {
        "id": "iE3t3i-XrkMJ"
      },
      "source": [
        "##### Vir Das"
      ]
    },
    {
      "cell_type": "code",
      "metadata": {
        "id": "q2XSPJIZsN_O"
      },
      "source": [
        "train_create_model(\"vir das\", data, stop_words=False)\n",
        "files.download('vir das.h5')"
      ],
      "execution_count": null,
      "outputs": []
    },
    {
      "cell_type": "code",
      "metadata": {
        "id": "-jk-91s_sPpL"
      },
      "source": [
        "train_create_model(\"vir das\", data, stop_words=True)\n",
        "files.download('vir das_stop_word.h5')"
      ],
      "execution_count": null,
      "outputs": []
    },
    {
      "cell_type": "markdown",
      "metadata": {
        "id": "rv79JDDurmQe"
      },
      "source": [
        "##### Kanan Gill"
      ]
    },
    {
      "cell_type": "code",
      "metadata": {
        "id": "5LCm1VZisR0_"
      },
      "source": [
        "train_create_model(\"kanan gill\", data, stop_words=False)\n",
        "files.download('kanan gill.h5')"
      ],
      "execution_count": null,
      "outputs": []
    },
    {
      "cell_type": "code",
      "metadata": {
        "id": "AsMAvlY2sUds"
      },
      "source": [
        "train_create_model(\"kanan gill\", data, stop_words=True)\n",
        "files.download('kanan gill_stop_word.h5')"
      ],
      "execution_count": null,
      "outputs": []
    },
    {
      "cell_type": "markdown",
      "metadata": {
        "id": "z00eqbG6pOXX"
      },
      "source": [
        "### Final Model Scratch Code"
      ]
    },
    {
      "cell_type": "code",
      "metadata": {
        "id": "hPLKMDJU9zyy"
      },
      "source": [
        ""
      ],
      "execution_count": null,
      "outputs": []
    },
    {
      "cell_type": "code",
      "metadata": {
        "id": "WA3l-Dg58ZBh"
      },
      "source": [
        "temp = data['Kenny Sebastian' == data['Artist']]['Cleaned_Transcript'].reset_index().drop(\"index\", axis=1)"
      ],
      "execution_count": null,
      "outputs": []
    },
    {
      "cell_type": "code",
      "metadata": {
        "id": "CM6v-yTl8ZBj"
      },
      "source": [
        "temp['Tokens'] = temp['Cleaned_Transcript'].apply(lambda x : word_tokenize(x.lower()))"
      ],
      "execution_count": null,
      "outputs": []
    },
    {
      "cell_type": "code",
      "metadata": {
        "id": "2R-LGYKc8ZBj"
      },
      "source": [
        "temp.head()"
      ],
      "execution_count": null,
      "outputs": []
    },
    {
      "cell_type": "code",
      "metadata": {
        "id": "XoqKVoyC8ZBk"
      },
      "source": [
        "temp_list = []\n",
        "temp.iloc[:, 1].apply(lambda x : temp_list.extend(x))\n",
        "len(temp_list)"
      ],
      "execution_count": null,
      "outputs": []
    },
    {
      "cell_type": "code",
      "metadata": {
        "id": "8HV0mmII8ZBk"
      },
      "source": [
        "del temp\n",
        "temp = temp_list"
      ],
      "execution_count": null,
      "outputs": []
    },
    {
      "cell_type": "code",
      "metadata": {
        "id": "eM0nV6328ZBk"
      },
      "source": [
        "n_words = len(temp)\n",
        "unique_words = len(set(temp))\n",
        "\n",
        "print('Total Words: %d' % n_words)\n",
        "print('Unique Words: %d' % unique_words)"
      ],
      "execution_count": null,
      "outputs": []
    },
    {
      "cell_type": "code",
      "metadata": {
        "id": "a0DAFWK68ZBk"
      },
      "source": [
        "length = 100 + 1\n",
        "lines = []\n",
        "for i in range(length, n_words):\n",
        "    seq = temp[i - length : i]\n",
        "    line = ' '.join(seq)\n",
        "    lines.append(line)\n",
        "print(len(lines))"
      ],
      "execution_count": null,
      "outputs": []
    },
    {
      "cell_type": "code",
      "metadata": {
        "id": "E2fA8akF8ZBl"
      },
      "source": [
        "print(lines[0])"
      ],
      "execution_count": null,
      "outputs": []
    },
    {
      "cell_type": "code",
      "metadata": {
        "id": "zp8HrU8E8ZBl"
      },
      "source": [
        "tokenizer = Tokenizer()\n",
        "tokenizer.fit_on_texts(lines)\n",
        "sequences = tokenizer.texts_to_sequences(lines)\n",
        "sequences = np.array(sequences)"
      ],
      "execution_count": null,
      "outputs": []
    },
    {
      "cell_type": "code",
      "metadata": {
        "id": "k44uRpjP8ZBl"
      },
      "source": [
        "vocab_size = len(tokenizer.word_index) + 1\n",
        "word_2_index = tokenizer.word_index"
      ],
      "execution_count": null,
      "outputs": []
    },
    {
      "cell_type": "code",
      "metadata": {
        "id": "paca3s8R8ZBm"
      },
      "source": [
        "X, y = sequences[:, :-1], sequences[:, -1]\n",
        "y = to_categorical(y, vocab_size)"
      ],
      "execution_count": null,
      "outputs": []
    },
    {
      "cell_type": "code",
      "metadata": {
        "id": "vAnwmV2d8ZBm"
      },
      "source": [
        "seq_length = X.shape[1]"
      ],
      "execution_count": null,
      "outputs": []
    },
    {
      "cell_type": "code",
      "metadata": {
        "id": "YnLkZ1-98ZBm"
      },
      "source": [
        "print(\"X shape:\", X.shape)\n",
        "print(\"y shape:\", y.shape)"
      ],
      "execution_count": null,
      "outputs": []
    },
    {
      "cell_type": "code",
      "metadata": {
        "id": "lhBgz2L0cBtq"
      },
      "source": [
        "model = TextGenerator(vocab_size, seq_length, tokenizer)"
      ],
      "execution_count": null,
      "outputs": []
    },
    {
      "cell_type": "code",
      "metadata": {
        "id": "gzAI4b33cSau"
      },
      "source": [
        "model.build()"
      ],
      "execution_count": null,
      "outputs": []
    },
    {
      "cell_type": "code",
      "metadata": {
        "id": "UHUlGpNac31c"
      },
      "source": [
        "model.fit(X, y, batch_size=256, epochs=75, validation_split=0.1)"
      ],
      "execution_count": null,
      "outputs": []
    },
    {
      "cell_type": "code",
      "metadata": {
        "id": "Xkj9-WXB8Mfq"
      },
      "source": [
        "model.plot_model()"
      ],
      "execution_count": null,
      "outputs": []
    },
    {
      "cell_type": "code",
      "metadata": {
        "id": "4uVHbSmU8VA6"
      },
      "source": [
        "print(model.generate_texts(lines[np.random.randint(0, len(lines))], 50))"
      ],
      "execution_count": null,
      "outputs": []
    },
    {
      "cell_type": "markdown",
      "metadata": {
        "id": "w-RqpYtJoirG"
      },
      "source": [
        "# Test Codes"
      ]
    },
    {
      "cell_type": "markdown",
      "metadata": {
        "id": "CxJIhi4C8sjT"
      },
      "source": [
        "## Test Model Codes"
      ]
    },
    {
      "cell_type": "markdown",
      "metadata": {
        "id": "N3pJ9HXN7PU_"
      },
      "source": [
        "### Plot Model"
      ]
    },
    {
      "cell_type": "code",
      "metadata": {
        "id": "f_E8Cehg7RfP"
      },
      "source": [
        "def plot_model(history):\n",
        "    # summarize history for accuracy\n",
        "    plt.plot(history.history['accuracy'])\n",
        "    plt.plot(history.history['val_accuracy'])\n",
        "    plt.title('model accuracy')\n",
        "    plt.ylabel('accuracy')\n",
        "    plt.xlabel('epoch')\n",
        "    plt.legend(['train', 'test'], loc='upper left')\n",
        "    plt.show()\n",
        "    print()\n",
        "    # summarize history for loss\n",
        "    plt.plot(history.history['loss'])\n",
        "    plt.plot(history.history['val_loss'])\n",
        "    plt.title('model loss')\n",
        "    plt.ylabel('loss')\n",
        "    plt.xlabel('epoch')\n",
        "    plt.legend(['train', 'test'], loc='upper left')\n",
        "    plt.show()\n",
        "# plot_model(history)"
      ],
      "execution_count": null,
      "outputs": []
    },
    {
      "cell_type": "markdown",
      "metadata": {
        "id": "NCYhiqXb7SN4"
      },
      "source": [
        "### Generate Text"
      ]
    },
    {
      "cell_type": "code",
      "metadata": {
        "id": "IzSsiTFa7UGz"
      },
      "source": [
        "def generate_texts(model, tokenizer, text_seq_length, seed_text, n_words):\n",
        "    text = []\n",
        "    print(seed_text, end='\\n\\n')\n",
        "    for _ in range(n_words):\n",
        "        encoded = tokenizer.texts_to_sequences([seed_text])[0]\n",
        "        encoded = pad_sequences([encoded], maxlen=text_seq_length, truncating='pre')\n",
        "        y_predict = np.argmax(model.predict(encoded), axis=-1)\n",
        "\n",
        "        predicted_word = ''\n",
        "        for word, index in tokenizer.word_index.items():\n",
        "            if index == y_predict:\n",
        "                predicted_word = word\n",
        "                break\n",
        "        seed_text = seed_text + ' ' + predicted_word\n",
        "        text.append(predicted_word)\n",
        "    return ' '.join(text)\n",
        "print(generate_texts(model, tokenizer, seq_length, lines[np.random.randint(0, len(lines))], 50))"
      ],
      "execution_count": null,
      "outputs": []
    },
    {
      "cell_type": "markdown",
      "metadata": {
        "id": "mDgBGtEy-OAk"
      },
      "source": [
        "## Modified Text Generator"
      ]
    },
    {
      "cell_type": "code",
      "metadata": {
        "id": "GblFI9egpJgd"
      },
      "source": [
        "import numpy as np\n",
        "import pandas as pd\n",
        "import matplotlib.pyplot as plt\n",
        "%matplotlib inline\n",
        "import tensorflow as tf\n",
        "from nltk.tokenize import word_tokenize\n",
        "from keras.models import Sequential, load_model\n",
        "from keras.layers import Dense, Embedding, LSTM, Dropout\n",
        "from tensorflow.keras.preprocessing.sequence import pad_sequences\n",
        "from tensorflow.keras.preprocessing.text import Tokenizer\n",
        "from keras.utils import to_categorical\n",
        "\n",
        "# from random import randint\n",
        "# from keras.callbacks import ModelCheckpoint"
      ],
      "execution_count": null,
      "outputs": []
    },
    {
      "cell_type": "code",
      "metadata": {
        "id": "ON3MQ_NR-lbk"
      },
      "source": [
        "from tensorflow.python.client import device_lib\n",
        "print(device_lib.list_local_devices())"
      ],
      "execution_count": null,
      "outputs": []
    },
    {
      "cell_type": "code",
      "metadata": {
        "id": "Zm6K0YVl-3vO"
      },
      "source": [
        "from tensorflow.python.keras import backend as K\n",
        "config = tf.compat.v1.ConfigProto( device_count = {'GPU': 1 , 'CPU': 8} )\n",
        "sess = tf.compat.v1.Session(config=config) \n",
        "K.set_session(sess)"
      ],
      "execution_count": null,
      "outputs": []
    },
    {
      "cell_type": "code",
      "metadata": {
        "id": "HCE6WdCG-9r3"
      },
      "source": [
        "import nltk\n",
        "nltk.download('punkt')"
      ],
      "execution_count": null,
      "outputs": []
    },
    {
      "cell_type": "code",
      "metadata": {
        "id": "h3kEdmFY_DQ-"
      },
      "source": [
        "data = pd.read_pickle(\"/content/Cleaned_Transcript.pickle\")"
      ],
      "execution_count": null,
      "outputs": []
    },
    {
      "cell_type": "code",
      "metadata": {
        "id": "yNh7Dh7_OFaF"
      },
      "source": [
        "data['Artist'].value_counts()[:10]"
      ],
      "execution_count": null,
      "outputs": []
    },
    {
      "cell_type": "code",
      "metadata": {
        "id": "mH55tVF3VFzr"
      },
      "source": [
        "data['Cleaned_Artist'].value_counts()[:10]"
      ],
      "execution_count": null,
      "outputs": []
    },
    {
      "cell_type": "code",
      "metadata": {
        "id": "v6IfwPWX_K7A"
      },
      "source": [
        "temp = data['Kenny Sebastian' == data['Artist']]['Cleaned_Transcript'].reset_index().drop(\"index\", axis=1)"
      ],
      "execution_count": null,
      "outputs": []
    },
    {
      "cell_type": "code",
      "metadata": {
        "id": "efBdjgsO_MbK"
      },
      "source": [
        "temp['Tokens'] = temp['Cleaned_Transcript'].apply(lambda x : word_tokenize(x.lower()))"
      ],
      "execution_count": null,
      "outputs": []
    },
    {
      "cell_type": "code",
      "metadata": {
        "id": "u8TBHNRnCDl8"
      },
      "source": [
        "temp.head()"
      ],
      "execution_count": null,
      "outputs": []
    },
    {
      "cell_type": "code",
      "metadata": {
        "id": "caxKLKbmLA4N"
      },
      "source": [
        "temp_list = []\n",
        "temp.iloc[:, 1].apply(lambda x : temp_list.extend(x))\n",
        "len(temp_list)"
      ],
      "execution_count": null,
      "outputs": []
    },
    {
      "cell_type": "code",
      "metadata": {
        "id": "AjkswyWiL-P0"
      },
      "source": [
        "del temp\n",
        "temp = temp_list"
      ],
      "execution_count": null,
      "outputs": []
    },
    {
      "cell_type": "code",
      "metadata": {
        "id": "xYIyT3Zj_OYa"
      },
      "source": [
        "n_words = len(temp)\n",
        "unique_words = len(set(temp))\n",
        "\n",
        "print('Total Words: %d' % n_words)\n",
        "print('Unique Words: %d' % unique_words)"
      ],
      "execution_count": null,
      "outputs": []
    },
    {
      "cell_type": "code",
      "metadata": {
        "id": "9Ljikh2q_VOD"
      },
      "source": [
        "length = 100 + 1\n",
        "lines = []\n",
        "for i in range(length, n_words):\n",
        "    seq = temp[i - length : i]\n",
        "    line = ' '.join(seq)\n",
        "    lines.append(line)\n",
        "print(len(lines))"
      ],
      "execution_count": null,
      "outputs": []
    },
    {
      "cell_type": "code",
      "metadata": {
        "id": "myPNp_Iv_W3D"
      },
      "source": [
        "print(lines[0])"
      ],
      "execution_count": null,
      "outputs": []
    },
    {
      "cell_type": "code",
      "metadata": {
        "id": "Wsj4-Vq5ENDQ"
      },
      "source": [
        "tokenizer = Tokenizer()\n",
        "tokenizer.fit_on_texts(lines)\n",
        "sequences = tokenizer.texts_to_sequences(lines)\n",
        "sequences = np.array(sequences)"
      ],
      "execution_count": null,
      "outputs": []
    },
    {
      "cell_type": "code",
      "metadata": {
        "id": "tPHZJxBD_R6U"
      },
      "source": [
        "vocab_size = len(tokenizer.word_index) + 1\n",
        "word_2_index = tokenizer.word_index"
      ],
      "execution_count": null,
      "outputs": []
    },
    {
      "cell_type": "code",
      "metadata": {
        "id": "5sJxX_79EmCY"
      },
      "source": [
        "X, y = sequences[:, :-1], sequences[:, -1]\n",
        "y = to_categorical(y, vocab_size)"
      ],
      "execution_count": null,
      "outputs": []
    },
    {
      "cell_type": "code",
      "metadata": {
        "id": "N7XS1k7E_ZRN"
      },
      "source": [
        "seq_length = X.shape[1]"
      ],
      "execution_count": null,
      "outputs": []
    },
    {
      "cell_type": "code",
      "metadata": {
        "id": "ac6aB6PX_bTF"
      },
      "source": [
        "print(\"X shape:\", X.shape)\n",
        "print(\"y shape:\", y.shape)"
      ],
      "execution_count": null,
      "outputs": []
    },
    {
      "cell_type": "code",
      "metadata": {
        "id": "XzoE4PgiGHtG"
      },
      "source": [
        "callback = tf.keras.callbacks.EarlyStopping(monitor='loss', patience=3)\n",
        "model = Sequential()\n",
        "model.add(Embedding(vocab_size, 100, input_length=seq_length))\n",
        "model.add(LSTM(128, return_sequences=True))\n",
        "model.add(LSTM(128))\n",
        "model.add(Dense(128, activation='relu'))\n",
        "model.add(Dense(vocab_size, activation='softmax'))"
      ],
      "execution_count": null,
      "outputs": []
    },
    {
      "cell_type": "code",
      "metadata": {
        "id": "dh1OZvjXG8Ca"
      },
      "source": [
        "model.summary()"
      ],
      "execution_count": null,
      "outputs": []
    },
    {
      "cell_type": "code",
      "metadata": {
        "id": "cQIiDjlbG9VT"
      },
      "source": [
        "model.compile(loss='categorical_crossentropy', optimizer='adam', metrics=['accuracy'])"
      ],
      "execution_count": null,
      "outputs": []
    },
    {
      "cell_type": "code",
      "metadata": {
        "id": "q9kLhlHoHJzw"
      },
      "source": [
        "history = model.fit(X, y, batch_size=256, epochs=75, validation_split=0.10, callbacks=[callback])"
      ],
      "execution_count": null,
      "outputs": []
    },
    {
      "cell_type": "code",
      "metadata": {
        "id": "6dHpzNlhV3eM"
      },
      "source": [
        "def plot_model(history):\n",
        "    # summarize history for accuracy\n",
        "    plt.plot(history.history['accuracy'])\n",
        "    plt.plot(history.history['val_accuracy'])\n",
        "    plt.title('model accuracy')\n",
        "    plt.ylabel('accuracy')\n",
        "    plt.xlabel('epoch')\n",
        "    plt.legend(['train', 'test'], loc='upper left')\n",
        "    plt.show()\n",
        "    print()\n",
        "    # summarize history for loss\n",
        "    plt.plot(history.history['loss'])\n",
        "    plt.plot(history.history['val_loss'])\n",
        "    plt.title('model loss')\n",
        "    plt.ylabel('loss')\n",
        "    plt.xlabel('epoch')\n",
        "    plt.legend(['train', 'test'], loc='upper left')\n",
        "    plt.show()\n",
        "plot_model(history)"
      ],
      "execution_count": null,
      "outputs": []
    },
    {
      "cell_type": "code",
      "metadata": {
        "id": "EOmWpAV5HP6H"
      },
      "source": [
        "def generate_texts(model, tokenizer, text_seq_length, seed_text, n_words):\n",
        "    text = []\n",
        "    print(seed_text, end='\\n\\n')\n",
        "    for _ in range(n_words):\n",
        "        encoded = tokenizer.texts_to_sequences([seed_text])[0]\n",
        "        encoded = pad_sequences([encoded], maxlen=text_seq_length, truncating='pre')\n",
        "        y_predict = np.argmax(model.predict(encoded), axis=-1)\n",
        "\n",
        "        predicted_word = ''\n",
        "        for word, index in tokenizer.word_index.items():\n",
        "            if index == y_predict:\n",
        "                predicted_word = word\n",
        "                break\n",
        "        seed_text = seed_text + ' ' + predicted_word\n",
        "        text.append(predicted_word)\n",
        "    return ' '.join(text)\n"
      ],
      "execution_count": null,
      "outputs": []
    },
    {
      "cell_type": "code",
      "metadata": {
        "id": "YEtQWWqfI5hd"
      },
      "source": [
        "print(generate_texts(model, tokenizer, seq_length, lines[np.random.randint(0, len(lines))], 50))"
      ],
      "execution_count": null,
      "outputs": []
    },
    {
      "cell_type": "code",
      "metadata": {
        "id": "43i2DyYJJaQz"
      },
      "source": [
        "model.save(\"kenny.h5\")"
      ],
      "execution_count": null,
      "outputs": []
    },
    {
      "cell_type": "markdown",
      "metadata": {
        "id": "tlucMtMUcRdv"
      },
      "source": [
        "### Without Stop Words"
      ]
    },
    {
      "cell_type": "code",
      "metadata": {
        "id": "4bJn5G-aL-uE"
      },
      "source": [
        "temp = data['Kenny Sebastian' == data['Artist']].reset_index().drop(\"index\", axis=1)"
      ],
      "execution_count": null,
      "outputs": []
    },
    {
      "cell_type": "code",
      "metadata": {
        "id": "trSXErHCb-tI"
      },
      "source": [
        ""
      ],
      "execution_count": null,
      "outputs": []
    },
    {
      "cell_type": "code",
      "metadata": {
        "id": "W8EOUXfjb_j3"
      },
      "source": [
        "temp_list = []\n",
        "temp.iloc[:, 4].apply(lambda x : temp_list.extend(x))\n",
        "len(temp_list)\n",
        "del temp\n",
        "temp = temp_list\n",
        "n_words = len(temp)\n",
        "unique_words = len(set(temp))\n",
        "\n",
        "print('Total Words: %d' % n_words)\n",
        "print('Unique Words: %d' % unique_words)"
      ],
      "execution_count": null,
      "outputs": []
    },
    {
      "cell_type": "code",
      "metadata": {
        "id": "NEf0gsm3cJtw"
      },
      "source": [
        "length = 100 + 1\n",
        "lines = []\n",
        "for i in range(length, n_words):\n",
        "    seq = temp[i - length : i]\n",
        "    line = ' '.join(seq)\n",
        "    lines.append(line)\n",
        "print(len(lines))"
      ],
      "execution_count": null,
      "outputs": []
    },
    {
      "cell_type": "code",
      "metadata": {
        "id": "c5h85vGFcPjq"
      },
      "source": [
        "tokenizer = Tokenizer()\n",
        "tokenizer.fit_on_texts(lines)\n",
        "sequences = tokenizer.texts_to_sequences(lines)\n",
        "sequences = np.array(sequences)"
      ],
      "execution_count": null,
      "outputs": []
    },
    {
      "cell_type": "code",
      "metadata": {
        "id": "h1eTCsODcVOy"
      },
      "source": [
        "vocab_size = len(tokenizer.word_index) + 1\n",
        "word_2_index = tokenizer.word_index"
      ],
      "execution_count": null,
      "outputs": []
    },
    {
      "cell_type": "code",
      "metadata": {
        "id": "SFd-OuctdDAr"
      },
      "source": [
        "X, y = sequences[:, :-1], sequences[:, -1]\n",
        "y = to_categorical(y, vocab_size)\n",
        "seq_length = X.shape[1]"
      ],
      "execution_count": null,
      "outputs": []
    },
    {
      "cell_type": "code",
      "metadata": {
        "id": "HniC2Q-XdE4x"
      },
      "source": [
        "print(\"X shape:\", X.shape)\n",
        "print(\"y shape:\", y.shape)"
      ],
      "execution_count": null,
      "outputs": []
    },
    {
      "cell_type": "code",
      "metadata": {
        "id": "CEnHv941dG9U"
      },
      "source": [
        "callback = tf.keras.callbacks.EarlyStopping(monitor='loss', patience=3)\n",
        "model = Sequential()\n",
        "model.add(Embedding(vocab_size, 100, input_length=seq_length))\n",
        "model.add(LSTM(128, return_sequences=True))\n",
        "model.add(LSTM(128))\n",
        "model.add(Dense(128, activation='relu'))\n",
        "model.add(Dense(vocab_size, activation='softmax'))"
      ],
      "execution_count": null,
      "outputs": []
    },
    {
      "cell_type": "code",
      "metadata": {
        "id": "3ds5nNH5dKLH"
      },
      "source": [
        "model.summary()"
      ],
      "execution_count": null,
      "outputs": []
    },
    {
      "cell_type": "code",
      "metadata": {
        "id": "bVacxqKLdMvK"
      },
      "source": [
        "model.compile(loss='categorical_crossentropy', optimizer='adam', metrics=['accuracy'])"
      ],
      "execution_count": null,
      "outputs": []
    },
    {
      "cell_type": "code",
      "metadata": {
        "id": "gk5ScTV0dQMg"
      },
      "source": [
        "history = model.fit(X, y, batch_size=256, epochs=75, validation_split=0.10, callbacks=[callback])"
      ],
      "execution_count": null,
      "outputs": []
    },
    {
      "cell_type": "code",
      "metadata": {
        "id": "xLqHxVPMdSvQ"
      },
      "source": [
        "def generate_texts(model, tokenizer, text_seq_length, seed_text, n_words):\n",
        "    text = []\n",
        "    print(seed_text, end='\\n\\n')\n",
        "    for _ in range(n_words):\n",
        "        encoded = tokenizer.texts_to_sequences([seed_text])[0]\n",
        "        encoded = pad_sequences([encoded], maxlen=text_seq_length, truncating='pre')\n",
        "        y_predict = np.argmax(model.predict(encoded), axis=-1)\n",
        "\n",
        "        predicted_word = ''\n",
        "        for word, index in tokenizer.word_index.items():\n",
        "            if index == y_predict:\n",
        "                predicted_word = word\n",
        "                break\n",
        "        seed_text = seed_text + ' ' + predicted_word\n",
        "        text.append(predicted_word)\n",
        "    return ' '.join(text)\n",
        "print(generate_texts(model, tokenizer, seq_length, lines[np.random.randint(0, len(lines))], 50))"
      ],
      "execution_count": null,
      "outputs": []
    },
    {
      "cell_type": "code",
      "metadata": {
        "id": "QzSpBN8LfGb0"
      },
      "source": [
        ""
      ],
      "execution_count": null,
      "outputs": []
    }
  ]
}